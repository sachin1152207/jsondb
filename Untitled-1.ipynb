{
 "cells": [
  {
   "cell_type": "code",
   "execution_count": 1,
   "metadata": {},
   "outputs": [],
   "source": [
    "import os\n",
    "try:\n",
    "    os.remove(\"db.json\")\n",
    "except:\n",
    "    pass"
   ]
  },
  {
   "cell_type": "code",
   "execution_count": 2,
   "metadata": {},
   "outputs": [],
   "source": [
    "from main import jsondb"
   ]
  },
  {
   "cell_type": "code",
   "execution_count": 3,
   "metadata": {},
   "outputs": [],
   "source": [
    "from pprint import pprint "
   ]
  },
  {
   "cell_type": "markdown",
   "metadata": {},
   "source": [
    "### Creating Database"
   ]
  },
  {
   "cell_type": "code",
   "execution_count": 4,
   "metadata": {},
   "outputs": [],
   "source": [
    "js = jsondb(\"db.json\", intent=4)"
   ]
  },
  {
   "cell_type": "markdown",
   "metadata": {},
   "source": [
    "### Schema"
   ]
  },
  {
   "cell_type": "code",
   "execution_count": 5,
   "metadata": {},
   "outputs": [],
   "source": [
    "schema= {\n",
    "    \"name\":\"STRING\",\n",
    "    \"email\":\"STRING\",\n",
    "    \"address\":\"STRING\",\n",
    "    \"username\":\"STRING\",\n",
    "    \"password\":\"STRING\",\n",
    "    \"phoneNumber\": \"INTEGER\",\n",
    "    \"salary\":\"FLOAT\"}"
   ]
  },
  {
   "cell_type": "markdown",
   "metadata": {},
   "source": [
    "### CreateTable"
   ]
  },
  {
   "cell_type": "code",
   "execution_count": 6,
   "metadata": {},
   "outputs": [
    {
     "data": {
      "text/plain": [
       "'Change applied: 1 column added.'"
      ]
     },
     "execution_count": 6,
     "metadata": {},
     "output_type": "execute_result"
    }
   ],
   "source": [
    "js.createTable(tableName=\"Employee\",tableSchema=schema)"
   ]
  },
  {
   "cell_type": "code",
   "execution_count": 7,
   "metadata": {},
   "outputs": [],
   "source": [
    "data = [\n",
    "    [\"Sachin Shrivastav\", \"sachinshrivastav152207@gmail.com\", \"Gaur 9\", \"sachin1542\", \"Sachin@9845\", 9845123456, 1542.00],\n",
    "    [\"John Doe\", \"johndoe@gmail.com\", \"123 Main St\", \"john123\", \"John@456\", 1234567890, 2500.00],\n",
    "    [\"Jane Smith\", \"janesmith@gmail.com\", \"456 Oak Ave\", \"jane456\", \"Jane@789\", 9876543210, 3000.00],\n",
    "    # [\"Alice Johnson\", \"alicejohnson@gmail.com\", \"789 Elm St\", \"alice789\", \"Alice@1011\", 5554443333, 2800.00],\n",
    "    # [\"Bob Brown\", \"bobbrown@gmail.com\", \"1011 Pine St\", \"bob1011\", \"Bob@1213\", 1112223333, 3200.00],\n",
    "    # [\"Michael Williams\", \"michaelwilliams@gmail.com\", \"1213 Cedar Ave\", \"mike1213\", \"Mike@1415\", 3332221111, 2700.00],\n",
    "    # [\"Emily Davis\", \"emilydavis@gmail.com\", \"1415 Walnut St\", \"emily1415\", \"Emily@1617\", 9998887777, 2900.00],\n",
    "    # [\"David Wilson\", \"davidwilson@gmail.com\", \"1617 Maple Ave\", \"david1617\", \"David@1819\", 7776665555, 2600.00],\n",
    "    # [\"James Taylor\", \"jamestaylor@gmail.com\", \"1819 Oak St\", \"james1819\", \"James@2021\", 4445556666, 3100.00],\n",
    "    # [\"Sarah Martinez\", \"sarahmartinez@gmail.com\", \"2021 Elm Ave\", \"sarah2021\", \"Sarah@2223\", 6667778888, 3300.00],\n",
    "    # [\"Christopher Garcia\", \"christophergarcia@gmail.com\", \"2223 Pine St\", \"chris2223\", \"Chris@2425\", 2223334444, 2800.00],\n",
    "    # [\"Jessica Rodriguez\", \"jessicarodriguez@gmail.com\", \"2425 Cedar Ave\", \"jessica2425\", \"Jessica@2627\", 8889991111, 2900.00],\n",
    "    # [\"Matthew Hernandez\", \"matthewhernandez@gmail.com\", \"2627 Walnut St\", \"matthew2627\", \"Matthew@2829\", 5554447777, 3000.00],\n",
    "    # [\"Daniel Lopez\", \"daniellopez@gmail.com\", \"2829 Maple Ave\", \"daniel2829\", \"Daniel@3031\", 1112223333, 3100.00],\n",
    "    # [\"Ashley Gonzalez\", \"ashleygonzalez@gmail.com\", \"3031 Oak St\", \"ashley3031\", \"Ashley@3233\", 9998887777, 3200.00],\n",
    "    # [\"Andrew Perez\", \"andrewperez@gmail.com\", \"3233 Elm Ave\", \"andrew3233\", \"Andrew@3435\", 3332221111, 3300.00],\n",
    "    # [\"Taylor Morgan\", \"taylormorgan@gmail.com\", \"3435 Pine St\", \"taylor3435\", \"Taylor@3637\", 7776665555, 3400.00],\n",
    "    # [\"Joshua Cook\", \"joshuacook@gmail.com\", \"3637 Cedar Ave\", \"joshua3637\", \"Joshua@3839\", 6665554444, 3500.00],\n",
    "    # [\"Lauren Hill\", \"laurenhill@gmail.com\", \"3839 Walnut St\", \"lauren3839\", \"Lauren@4041\", 4443332222, 3600.00],\n",
    "    # [\"Brandon Scott\", \"brandonscott@gmail.com\", \"4041 Maple Ave\", \"brandon4041\", \"Brandon@4243\", 2221110000, 3700.00]\n",
    "]"
   ]
  },
  {
   "cell_type": "markdown",
   "metadata": {},
   "source": [
    "### insertRow"
   ]
  },
  {
   "cell_type": "code",
   "execution_count": 8,
   "metadata": {},
   "outputs": [],
   "source": [
    "x = js.insertRow(tableName=\"Employee\", rows=data)"
   ]
  },
  {
   "cell_type": "markdown",
   "metadata": {},
   "source": [
    "### Save to db"
   ]
  },
  {
   "cell_type": "code",
   "execution_count": 9,
   "metadata": {},
   "outputs": [
    {
     "data": {
      "text/plain": [
       "True"
      ]
     },
     "execution_count": 9,
     "metadata": {},
     "output_type": "execute_result"
    }
   ],
   "source": [
    "js.save()"
   ]
  },
  {
   "cell_type": "code",
   "execution_count": 10,
   "metadata": {},
   "outputs": [],
   "source": [
    "# print(x)"
   ]
  },
  {
   "cell_type": "markdown",
   "metadata": {},
   "source": [
    "### fetchOne"
   ]
  },
  {
   "cell_type": "code",
   "execution_count": 11,
   "metadata": {},
   "outputs": [],
   "source": [
    "x = js.fetchOne((\"OBJECT_ID\", [1,6,5,4]), tableName=\"Employee\", field=[\"name\"])"
   ]
  },
  {
   "cell_type": "code",
   "execution_count": 12,
   "metadata": {},
   "outputs": [
    {
     "name": "stdout",
     "output_type": "stream",
     "text": [
      "[{'name': 'Sachin Shrivastav'}]\n"
     ]
    }
   ],
   "source": [
    "pprint(x)"
   ]
  },
  {
   "cell_type": "markdown",
   "metadata": {},
   "source": [
    "### DeleteOne"
   ]
  },
  {
   "cell_type": "code",
   "execution_count": 13,
   "metadata": {},
   "outputs": [],
   "source": [
    "# js.deleteOne((\"OBJECT_ID\",1), tableName=\"Employee\", commit=True)"
   ]
  },
  {
   "cell_type": "markdown",
   "metadata": {},
   "source": [
    "### DeleteMany"
   ]
  },
  {
   "cell_type": "code",
   "execution_count": 14,
   "metadata": {},
   "outputs": [],
   "source": [
    "# js.deleteMany((\"OBJECT_ID\",[1,3]), tableName=\"Employee\", commit=True)"
   ]
  },
  {
   "cell_type": "markdown",
   "metadata": {},
   "source": [
    "### fetchAll"
   ]
  },
  {
   "cell_type": "code",
   "execution_count": 17,
   "metadata": {},
   "outputs": [
    {
     "data": {
      "text/plain": [
       "[{'OBJECT_ID': 2, 'name': 'John Doe'},\n",
       " {'OBJECT_ID': 3, 'name': 'Jane Smith'},\n",
       " {'OBJECT_ID': 1, 'name': 'New Name'}]"
      ]
     },
     "execution_count": 17,
     "metadata": {},
     "output_type": "execute_result"
    }
   ],
   "source": [
    "js.fetchAll(tableName=\"Employee\", field=[\"OBJECT_ID\", \"name\"])"
   ]
  },
  {
   "cell_type": "markdown",
   "metadata": {},
   "source": [
    "### updateOne"
   ]
  },
  {
   "cell_type": "code",
   "execution_count": 16,
   "metadata": {},
   "outputs": [
    {
     "data": {
      "text/plain": [
       "'Change applied: 1 column deleted.'"
      ]
     },
     "execution_count": 16,
     "metadata": {},
     "output_type": "execute_result"
    }
   ],
   "source": [
    "js.updatOne(tableName=\"Employee\", filter=(\"name\",\"Sachin Shrivastav\"), newData={\"name\":\"New Name\",\"email\":\"newEmail@gmail.com\", \"username\":\"new username\"}, commit=True)"
   ]
  },
  {
   "cell_type": "code",
   "execution_count": null,
   "metadata": {},
   "outputs": [],
   "source": []
  }
 ],
 "metadata": {
  "kernelspec": {
   "display_name": "Python 3",
   "language": "python",
   "name": "python3"
  },
  "language_info": {
   "codemirror_mode": {
    "name": "ipython",
    "version": 3
   },
   "file_extension": ".py",
   "mimetype": "text/x-python",
   "name": "python",
   "nbconvert_exporter": "python",
   "pygments_lexer": "ipython3",
   "version": "3.10.0"
  }
 },
 "nbformat": 4,
 "nbformat_minor": 2
}
